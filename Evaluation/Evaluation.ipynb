{
 "cells": [
  {
   "cell_type": "markdown",
   "metadata": {},
   "source": [
    "# Evaluate Naturalness Survey"
   ]
  },
  {
   "cell_type": "code",
   "execution_count": 147,
   "metadata": {},
   "outputs": [],
   "source": [
    "import numpy as np\n",
    "import pandas as pd\n",
    "import scipy.stats as st\n",
    "import seaborn as sns \n",
    "import matplotlib.pyplot as plt"
   ]
  },
  {
   "cell_type": "code",
   "execution_count": 148,
   "metadata": {},
   "outputs": [],
   "source": [
    "df = pd.read_csv(\"Batch_4365949_batch_results_2.csv\")"
   ]
  },
  {
   "cell_type": "markdown",
   "metadata": {},
   "source": [
    "## Convert rating to numbers"
   ]
  },
  {
   "cell_type": "code",
   "execution_count": 149,
   "metadata": {},
   "outputs": [],
   "source": [
    "label_to_num = {\n",
    "    \"Excellent - Completely natural speech\" : 5,\n",
    "    \"Good - Mostly natural speech\": 4,\n",
    "    \"Fair - Equally natural and unnatural speech\": 3,\n",
    "    \"Poor - Mostly unnatural speech\" : 2,\n",
    "    \"Bad - Completely unnatural speech\" : 1\n",
    "}"
   ]
  },
  {
   "cell_type": "code",
   "execution_count": 150,
   "metadata": {},
   "outputs": [],
   "source": [
    "df_copy = df.copy()\n",
    "# Select only values that werent rejected\n",
    "df_copy = df_copy[df_copy[\"AssignmentStatus\"] == \"Submitted\"]\n",
    "df_copy[\"naturalness\"] = df_copy[\"Answer.audio-naturalness.label\"].apply(lambda x: label_to_num[x])"
   ]
  },
  {
   "cell_type": "markdown",
   "metadata": {},
   "source": [
    "## Seperate our results from Face2Speech results"
   ]
  },
  {
   "cell_type": "code",
   "execution_count": 151,
   "metadata": {},
   "outputs": [
    {
     "data": {
      "text/html": [
       "<div>\n",
       "<style scoped>\n",
       "    .dataframe tbody tr th:only-of-type {\n",
       "        vertical-align: middle;\n",
       "    }\n",
       "\n",
       "    .dataframe tbody tr th {\n",
       "        vertical-align: top;\n",
       "    }\n",
       "\n",
       "    .dataframe thead th {\n",
       "        text-align: right;\n",
       "    }\n",
       "</style>\n",
       "<table border=\"1\" class=\"dataframe\">\n",
       "  <thead>\n",
       "    <tr style=\"text-align: right;\">\n",
       "      <th></th>\n",
       "      <th>ours</th>\n",
       "      <th>theirs</th>\n",
       "    </tr>\n",
       "  </thead>\n",
       "  <tbody>\n",
       "    <tr>\n",
       "      <th>1</th>\n",
       "      <td>9</td>\n",
       "      <td>15</td>\n",
       "    </tr>\n",
       "    <tr>\n",
       "      <th>2</th>\n",
       "      <td>40</td>\n",
       "      <td>71</td>\n",
       "    </tr>\n",
       "    <tr>\n",
       "      <th>3</th>\n",
       "      <td>169</td>\n",
       "      <td>185</td>\n",
       "    </tr>\n",
       "    <tr>\n",
       "      <th>4</th>\n",
       "      <td>295</td>\n",
       "      <td>253</td>\n",
       "    </tr>\n",
       "    <tr>\n",
       "      <th>5</th>\n",
       "      <td>87</td>\n",
       "      <td>75</td>\n",
       "    </tr>\n",
       "  </tbody>\n",
       "</table>\n",
       "</div>"
      ],
      "text/plain": [
       "   ours  theirs\n",
       "1     9      15\n",
       "2    40      71\n",
       "3   169     185\n",
       "4   295     253\n",
       "5    87      75"
      ]
     },
     "execution_count": 151,
     "metadata": {},
     "output_type": "execute_result"
    }
   ],
   "source": [
    "ours = df_copy[df_copy[\"Input.audio_url\"].str.contains(\"bjoernpl/ThesisSurveyFiles/blob/main/ours/\")]\n",
    "theirs = df_copy[df_copy[\"Input.audio_url\"].str.contains(\"DeNA/Face2Speech//blob/master/docs\")]\n",
    "both = pd.DataFrame({\n",
    "    \"ours\" : ours[\"naturalness\"].value_counts(),\n",
    "    \"theirs\" : theirs[\"naturalness\"].value_counts()\n",
    "}).sort_index()\n",
    "both"
   ]
  },
  {
   "cell_type": "code",
   "execution_count": 199,
   "metadata": {},
   "outputs": [
    {
     "data": {
      "image/png": "[encoded data removed]",
      "text/plain": [
       "<Figure size 720x432 with 1 Axes>"
      ]
     },
     "metadata": {
      "needs_background": "light"
     },
     "output_type": "display_data"
    }
   ],
   "source": [
    "per_sample = ours.groupby(\"HITId\")\n",
    "ys = list(per_sample[\"naturalness\"].mean().values) + [0.0]*20\n",
    "yerrs = list(per_sample[\"naturalness\"].std().values) + [0.0]*20\n",
    "xs = np.arange(len(ys))\n",
    "yts = [0.0]*20 + list(theirs.groupby(\"HITId\")[\"naturalness\"].mean().values)\n",
    "yterrs = [0.0]*20 + list(theirs.groupby(\"HITId\")[\"naturalness\"].std().values)\n",
    "fig = plt.figure(figsize=(10, 6))\n",
    "width = 0.3\n",
    "plt.grid(color='#95a5a6', linewidth=1, axis='y', alpha=0.5)\n",
    "plt.bar(xs, ys, yerr=yerrs,capsize=5)\n",
    "plt.bar(xs, yts,yerr=yterrs,capsize=5)\n",
    "plt.axhline(np.mean(ys[:20]), label=f\"Our samples average = {np.mean(ys[:20]):.2f}\")\n",
    "plt.axhline(np.mean(yts[20:]), color=\"tab:orange\", label=f\"Face2Speech average = {np.mean(yts[20:]):.2f}\")\n",
    "plt.legend()\n",
    "plt.xticks(xs, labels = [\"\"]*40)\n",
    "plt.xlabel(\"Samples\")\n",
    "plt.ylabel(\"Mean naturalness rating\")\n",
    "plt.title(\"Mean naturalness rating per sample ↑\")\n",
    "plt.tight_layout()\n",
    "plt.savefig(\"naturalness_per_sample_std.pdf\")\n",
    "plt.show()"
   ]
  },
  {
   "cell_type": "code",
   "execution_count": 179,
   "metadata": {},
   "outputs": [
    {
     "data": {
      "image/png": "[encoded data removed]",
      "text/plain": [
       "<Figure size 720x432 with 1 Axes>"
      ]
     },
     "metadata": {
      "needs_background": "light"
     },
     "output_type": "display_data"
    }
   ],
   "source": [
    "participants = df_copy.groupby(\"WorkerId\")\n",
    "ys = sorted(list(participants[\"naturalness\"].count()), reverse=True)\n",
    "xs = np.arange(len(ys))\n",
    "fig = plt.figure(figsize=(10, 6))\n",
    "plt.grid(color='#95a5a6', linewidth=1, axis='y', alpha=0.5)\n",
    "plt.bar(xs, ys)\n",
    "plt.axhline(np.mean(ys), label=f\"average = {np.mean(ys):.2f}\")\n",
    "plt.legend()\n",
    "plt.xticks(xs, labels = [\"\"]*len(xs))\n",
    "plt.xlabel(\"Participant\")\n",
    "plt.ylabel(\"Number of samples rated\")\n",
    "plt.title(\"Number samples rated per participant\")\n",
    "plt.tight_layout()\n",
    "plt.show()"
   ]
  },
  {
   "cell_type": "code",
   "execution_count": 176,
   "metadata": {},
   "outputs": [
    {
     "data": {
      "image/png": "[encoded data removed]",
      "text/plain": [
       "<Figure size 720x432 with 1 Axes>"
      ]
     },
     "metadata": {
      "needs_background": "light"
     },
     "output_type": "display_data"
    }
   ],
   "source": [
    "participants = df_copy.groupby(\"WorkerId\")\n",
    "ys = sorted(list(participants[\"naturalness\"].mean().values))\n",
    "xs = np.arange(len(ys))\n",
    "fig = plt.figure(figsize=(10, 6))\n",
    "plt.grid(color='#95a5a6', linewidth=1, axis='y', alpha=0.5)\n",
    "plt.bar(xs, ys)\n",
    "plt.xticks(xs, labels = [\"\"]*len(xs))\n",
    "plt.xlabel(\"Participant\")\n",
    "plt.ylabel(\"Mean naturalness rating\")\n",
    "plt.title(\"Mean naturalness rating per participant ↑\")\n",
    "plt.tight_layout()\n",
    "plt.show()"
   ]
  },
  {
   "cell_type": "markdown",
   "metadata": {},
   "source": [
    "## Calculate Mean and 95% "
   ]
  },
  {
   "cell_type": "code",
   "execution_count": 155,
   "metadata": {},
   "outputs": [
    {
     "name": "stdout",
     "output_type": "stream",
     "text": [
      "Mean naturalness rating: 3.69 +- 0.07\n"
     ]
    }
   ],
   "source": [
    "m = ours[\"naturalness\"].mean()\n",
    "l,t = st.t.interval(alpha=0.95, df=len(ours)-1, loc=m, scale=st.sem(ours[\"naturalness\"])) \n",
    "\n",
    "print(f\"Mean naturalness rating: {float(m):.2f} +- {float(m-l):.2f}\")"
   ]
  },
  {
   "cell_type": "code",
   "execution_count": 169,
   "metadata": {},
   "outputs": [
    {
     "data": {
      "text/plain": [
       "0.020874269005847965"
      ]
     },
     "execution_count": 169,
     "metadata": {},
     "output_type": "execute_result"
    }
   ],
   "source": [
    "vals = ours.groupby(\"HITId\")[\"naturalness\"].mean().values\n",
    "m = np.mean(vals)\n",
    "variance = np.sum((vals-m)**2) / (len(vals)-1)\n",
    "variance"
   ]
  },
  {
   "cell_type": "code",
   "execution_count": 118,
   "metadata": {},
   "outputs": [
    {
     "name": "stdout",
     "output_type": "stream",
     "text": [
      "Mean naturalness rating: 3.504 +- 0.08\n"
     ]
    }
   ],
   "source": [
    "m = theirs[\"naturalness\"].mean()\n",
    "l,t = st.t.interval(alpha=0.95, df=len(theirs)-1, loc=m, scale=st.sem(theirs[\"naturalness\"])) \n",
    "\n",
    "print(f\"Mean naturalness rating: {float(m):.3f} +- {float(m-l):.2f}\")"
   ]
  },
  {
   "cell_type": "code",
   "execution_count": 170,
   "metadata": {},
   "outputs": [
    {
     "data": {
      "text/plain": [
       "0.05193614883423383"
      ]
     },
     "execution_count": 170,
     "metadata": {},
     "output_type": "execute_result"
    }
   ],
   "source": [
    "vals = theirs.groupby(\"HITId\")[\"naturalness\"].mean().values\n",
    "m = np.mean(vals)\n",
    "variance = np.sum((vals-m)**2) / (len(vals)-1)\n",
    "variance"
   ]
  },
  {
   "cell_type": "markdown",
   "metadata": {},
   "source": [
    "## Check if participants only rating some samples had influence"
   ]
  },
  {
   "cell_type": "code",
   "execution_count": 182,
   "metadata": {},
   "outputs": [
    {
     "name": "stdout",
     "output_type": "stream",
     "text": [
      "600\n"
     ]
    },
    {
     "data": {
      "image/png": "[encoded data removed]",
      "text/plain": [
       "<Figure size 720x432 with 1 Axes>"
      ]
     },
     "metadata": {
      "needs_background": "light"
     },
     "output_type": "display_data"
    }
   ],
   "source": [
    "n_per_p = df_copy.groupby(\"WorkerId\")\n",
    "means = np.zeros(40, dtype=float)\n",
    "lens = np.zeros(40, dtype=float)\n",
    "print(len(ours))\n",
    "for i in range(40):\n",
    "    a = n_per_p[\"naturalness\"].count()[n_per_p[\"naturalness\"].count() == i]\n",
    "    out = ours[ours[\"WorkerId\"].isin(a.keys())]\n",
    "    lens[i] = len(out[\"naturalness\"])\n",
    "    mean = out[\"naturalness\"].mean()\n",
    "    means[i] = mean if not np.isnan(mean) else 0\n",
    "xs = list(range(40))\n",
    "fig = plt.figure(figsize=(10, 6))\n",
    "plt.grid(color='#95a5a6', linewidth=1, axis='y', alpha=0.5)\n",
    "plt.bar(xs,[means[x] for x in xs])\n",
    "plt.axhline(np.mean(means[means > 0]), color=\"#FF5522\", label=\"average\")\n",
    "plt.legend()\n",
    "plt.xticks(xs)\n",
    "plt.xlabel(\"Samples rated\")\n",
    "plt.ylabel(\"Mean rating\")\n",
    "plt.title(\"Average rating for users that rated n sample\")\n",
    "plt.show()"
   ]
  },
  {
   "cell_type": "markdown",
   "metadata": {},
   "source": [
    "### Average rating excluding speakers that rated less than n samples"
   ]
  },
  {
   "cell_type": "code",
   "execution_count": 185,
   "metadata": {},
   "outputs": [
    {
     "data": {
      "text/plain": [
       "3.4944444444444445"
      ]
     },
     "execution_count": 185,
     "metadata": {},
     "output_type": "execute_result"
    }
   ],
   "source": [
    "# For Face2Speech\n",
    "n_per_p = theirs.groupby(\"WorkerId\")\n",
    "n = 5\n",
    "a = n_per_p[\"naturalness\"].count()[n_per_p[\"naturalness\"].count() > n]\n",
    "out = theirs[theirs[\"WorkerId\"].isin(a.keys())]\n",
    "out[\"naturalness\"].mean()"
   ]
  },
  {
   "cell_type": "code",
   "execution_count": 186,
   "metadata": {},
   "outputs": [
    {
     "data": {
      "text/plain": [
       "3.6907020872865277"
      ]
     },
     "execution_count": 186,
     "metadata": {},
     "output_type": "execute_result"
    }
   ],
   "source": [
    "# For Ours\n",
    "n_per_p = ours.groupby(\"WorkerId\")\n",
    "n = 5\n",
    "a = n_per_p[\"naturalness\"].count()[n_per_p[\"naturalness\"].count() > n]\n",
    "out = ours[ours[\"WorkerId\"].isin(a.keys())]\n",
    "out[\"naturalness\"].mean()"
   ]
  },
  {
   "cell_type": "code",
   "execution_count": null,
   "metadata": {},
   "outputs": [],
   "source": []
  }
 ],
 "metadata": {
  "kernelspec": {
   "display_name": "esptest3",
   "language": "python",
   "name": "esptest3"
  },
  "language_info": {
   "codemirror_mode": {
    "name": "ipython",
    "version": 3
   },
   "file_extension": ".py",
   "mimetype": "text/x-python",
   "name": "python",
   "nbconvert_exporter": "python",
   "pygments_lexer": "ipython3",
   "version": "3.6.9"
  }
 },
 "nbformat": 4,
 "nbformat_minor": 4
}
