{
 "cells": [
  {
   "cell_type": "markdown",
   "metadata": {
    "id": "G_Wou5fJONvY"
   },
   "source": [
    "# Target speaker TTS from face: demonstration"
   ]
  },
  {
   "cell_type": "markdown",
   "metadata": {
    "id": "yqopRspcOcQZ"
   },
   "source": [
    "First install necessary components."
   ]
  },
  {
   "cell_type": "code",
   "execution_count": null,
   "metadata": {
    "id": "_KW7orYQOLmK"
   },
   "outputs": [],
   "source": [
    "!git clone https://github.com/bjoernpl/ThesisFiles.git\n",
    "%cd ThesisFiles\n",
    "!pip install pytorch_lightning espnet_model_zoo\n",
    "!pip install git+https://github.com/bjoernpl/espnet\n",
    "!pip install git+https://github.com/kan-bayashi/ParallelWaveGAN\n",
    "!git clone https://github.com/bjoernpl/facenet-pytorch facenet_pytorch"
   ]
  },
  {
   "cell_type": "markdown",
   "metadata": {
    "id": "RBxAV2XXPVpE"
   },
   "source": [
    "Download pretrained model weights:"
   ]
  },
  {
   "cell_type": "code",
   "execution_count": null,
   "metadata": {
    "id": "IID2mhSAO0sf"
   },
   "outputs": [],
   "source": [
    "! wget https://www.dropbox.com/s/iyokqy9jmcob7nm/face_style_weights.ckpt -O  ./src/models/weights/face_style_weights.ckpt\n",
    "%cd src"
   ]
  },
  {
   "cell_type": "markdown",
   "metadata": {
    "id": "eWpbksI3PhqD"
   },
   "source": [
    "##  Imports"
   ]
  },
  {
   "cell_type": "code",
   "execution_count": null,
   "metadata": {
    "id": "UVpSbzyyPnjz"
   },
   "outputs": [],
   "source": [
    "from pathlib import Path\n",
    "import IPython\n",
    "import soundfile as sf\n",
    "from PIL import Image\n",
    "from datetime import datetime \n",
    "\n",
    "from inference.face_voice_inference import FaceStyleInference\n",
    "from inference.tacotron_loader import TacotronLoader"
   ]
  },
  {
   "cell_type": "markdown",
   "metadata": {},
   "source": [
    "## Load model"
   ]
  },
  {
   "cell_type": "code",
   "execution_count": null,
   "metadata": {
    "colab": {
     "base_uri": "https://localhost:8080/",
     "height": 225,
     "referenced_widgets": [
      "e4ffaa0aec4b4160aba5715e381c79e6",
      "f9e279a6dc1f48b8b360617360a48da6",
      "a2542710ba19451c868a3b1891cf166f",
      "57022ed4fdae46eaab742faa5df817bd",
      "d5e6d5e6c622446998c4d2a5e7cc4e78",
      "b8b4a5e72304436cac6cd06955bca82f",
      "7c4201b343ee48ab82f7de2028a4a4ea",
      "d6fc926d48054334b3c49d5825dee0ef"
     ]
    },
    "id": "fFQulFkIP_E9",
    "outputId": "6c005ed0-fd5b-4719-b1b0-d2692239ae9a"
   },
   "outputs": [],
   "source": [
    "face_style = FaceStyleInference(\n",
    "    facevoice_model_path=\"../src/models/weights/face_style_weights.ckpt\",\n",
    "    facenet_pretrained=\"casia-webface\"\n",
    ")\n",
    "face_model = face_style.facestyle\n",
    "baseline_tacotron, preprocess = TacotronLoader.load()"
   ]
  },
  {
   "cell_type": "markdown",
   "metadata": {},
   "source": [
    "## Inference on demo images"
   ]
  },
  {
   "cell_type": "code",
   "execution_count": null,
   "metadata": {
    "colab": {
     "base_uri": "https://localhost:8080/",
     "height": 273
    },
    "id": "RJbY_4kzWCcO",
    "outputId": "9d15b36b-d1fc-475f-f0f4-7c753ee13774"
   },
   "outputs": [],
   "source": [
    "start_time = datetime.now() \n",
    "path = Path(f\"./demo_images/0.jpg\")\n",
    "text = \"This is a simple test sentence, replace it with your own sentence. Also try replacing the image.\"\n",
    "speech, img, *_ = face_style.inference(text, path)\n",
    "print(\"Face reference:\")\n",
    "IPython.display.display(IPython.display.Image(filename=str(path)))\n",
    "print(\"Synthesized audio\")\n",
    "IPython.display.display(IPython.display.Audio(speech, rate=24000))\n",
    "print(f'Time elapsed {(datetime.now() - start_time)}')"
   ]
  }
 ],
 "metadata": {
  "accelerator": "GPU",
  "colab": {
   "collapsed_sections": [],
   "name": "Untitled1.ipynb",
   "provenance": [],
   "toc_visible": true
  },
  "kernelspec": {
   "display_name": "Python 3",
   "language": "python",
   "name": "python3"
  },
  "language_info": {
   "codemirror_mode": {
    "name": "ipython",
    "version": 3
   },
   "file_extension": ".py",
   "mimetype": "text/x-python",
   "name": "python",
   "nbconvert_exporter": "python",
   "pygments_lexer": "ipython3",
   "version": "3.8.5"
  },
  "widgets": {
   "application/vnd.jupyter.widget-state+json": {
    "57022ed4fdae46eaab742faa5df817bd": {
     "model_module": "@jupyter-widgets/controls",
     "model_name": "HTMLModel",
     "state": {
      "_dom_classes": [],
      "_model_module": "@jupyter-widgets/controls",
      "_model_module_version": "1.5.0",
      "_model_name": "HTMLModel",
      "_view_count": null,
      "_view_module": "@jupyter-widgets/controls",
      "_view_module_version": "1.5.0",
      "_view_name": "HTMLView",
      "description": "",
      "description_tooltip": null,
      "layout": "IPY_MODEL_d6fc926d48054334b3c49d5825dee0ef",
      "placeholder": "​",
      "style": "IPY_MODEL_7c4201b343ee48ab82f7de2028a4a4ea",
      "value": " 111M/111M [00:01&lt;00:00, 111MB/s]"
     }
    },
    "7c4201b343ee48ab82f7de2028a4a4ea": {
     "model_module": "@jupyter-widgets/controls",
     "model_name": "DescriptionStyleModel",
     "state": {
      "_model_module": "@jupyter-widgets/controls",
      "_model_module_version": "1.5.0",
      "_model_name": "DescriptionStyleModel",
      "_view_count": null,
      "_view_module": "@jupyter-widgets/base",
      "_view_module_version": "1.2.0",
      "_view_name": "StyleView",
      "description_width": ""
     }
    },
    "a2542710ba19451c868a3b1891cf166f": {
     "model_module": "@jupyter-widgets/controls",
     "model_name": "FloatProgressModel",
     "state": {
      "_dom_classes": [],
      "_model_module": "@jupyter-widgets/controls",
      "_model_module_version": "1.5.0",
      "_model_name": "FloatProgressModel",
      "_view_count": null,
      "_view_module": "@jupyter-widgets/controls",
      "_view_module_version": "1.5.0",
      "_view_name": "ProgressView",
      "bar_style": "success",
      "description": "100%",
      "description_tooltip": null,
      "layout": "IPY_MODEL_b8b4a5e72304436cac6cd06955bca82f",
      "max": 115887415,
      "min": 0,
      "orientation": "horizontal",
      "style": "IPY_MODEL_d5e6d5e6c622446998c4d2a5e7cc4e78",
      "value": 115887415
     }
    },
    "b8b4a5e72304436cac6cd06955bca82f": {
     "model_module": "@jupyter-widgets/base",
     "model_name": "LayoutModel",
     "state": {
      "_model_module": "@jupyter-widgets/base",
      "_model_module_version": "1.2.0",
      "_model_name": "LayoutModel",
      "_view_count": null,
      "_view_module": "@jupyter-widgets/base",
      "_view_module_version": "1.2.0",
      "_view_name": "LayoutView",
      "align_content": null,
      "align_items": null,
      "align_self": null,
      "border": null,
      "bottom": null,
      "display": null,
      "flex": null,
      "flex_flow": null,
      "grid_area": null,
      "grid_auto_columns": null,
      "grid_auto_flow": null,
      "grid_auto_rows": null,
      "grid_column": null,
      "grid_gap": null,
      "grid_row": null,
      "grid_template_areas": null,
      "grid_template_columns": null,
      "grid_template_rows": null,
      "height": null,
      "justify_content": null,
      "justify_items": null,
      "left": null,
      "margin": null,
      "max_height": null,
      "max_width": null,
      "min_height": null,
      "min_width": null,
      "object_fit": null,
      "object_position": null,
      "order": null,
      "overflow": null,
      "overflow_x": null,
      "overflow_y": null,
      "padding": null,
      "right": null,
      "top": null,
      "visibility": null,
      "width": null
     }
    },
    "d5e6d5e6c622446998c4d2a5e7cc4e78": {
     "model_module": "@jupyter-widgets/controls",
     "model_name": "ProgressStyleModel",
     "state": {
      "_model_module": "@jupyter-widgets/controls",
      "_model_module_version": "1.5.0",
      "_model_name": "ProgressStyleModel",
      "_view_count": null,
      "_view_module": "@jupyter-widgets/base",
      "_view_module_version": "1.2.0",
      "_view_name": "StyleView",
      "bar_color": null,
      "description_width": "initial"
     }
    },
    "d6fc926d48054334b3c49d5825dee0ef": {
     "model_module": "@jupyter-widgets/base",
     "model_name": "LayoutModel",
     "state": {
      "_model_module": "@jupyter-widgets/base",
      "_model_module_version": "1.2.0",
      "_model_name": "LayoutModel",
      "_view_count": null,
      "_view_module": "@jupyter-widgets/base",
      "_view_module_version": "1.2.0",
      "_view_name": "LayoutView",
      "align_content": null,
      "align_items": null,
      "align_self": null,
      "border": null,
      "bottom": null,
      "display": null,
      "flex": null,
      "flex_flow": null,
      "grid_area": null,
      "grid_auto_columns": null,
      "grid_auto_flow": null,
      "grid_auto_rows": null,
      "grid_column": null,
      "grid_gap": null,
      "grid_row": null,
      "grid_template_areas": null,
      "grid_template_columns": null,
      "grid_template_rows": null,
      "height": null,
      "justify_content": null,
      "justify_items": null,
      "left": null,
      "margin": null,
      "max_height": null,
      "max_width": null,
      "min_height": null,
      "min_width": null,
      "object_fit": null,
      "object_position": null,
      "order": null,
      "overflow": null,
      "overflow_x": null,
      "overflow_y": null,
      "padding": null,
      "right": null,
      "top": null,
      "visibility": null,
      "width": null
     }
    },
    "e4ffaa0aec4b4160aba5715e381c79e6": {
     "model_module": "@jupyter-widgets/controls",
     "model_name": "HBoxModel",
     "state": {
      "_dom_classes": [],
      "_model_module": "@jupyter-widgets/controls",
      "_model_module_version": "1.5.0",
      "_model_name": "HBoxModel",
      "_view_count": null,
      "_view_module": "@jupyter-widgets/controls",
      "_view_module_version": "1.5.0",
      "_view_name": "HBoxView",
      "box_style": "",
      "children": [
       "IPY_MODEL_a2542710ba19451c868a3b1891cf166f",
       "IPY_MODEL_57022ed4fdae46eaab742faa5df817bd"
      ],
      "layout": "IPY_MODEL_f9e279a6dc1f48b8b360617360a48da6"
     }
    },
    "f9e279a6dc1f48b8b360617360a48da6": {
     "model_module": "@jupyter-widgets/base",
     "model_name": "LayoutModel",
     "state": {
      "_model_module": "@jupyter-widgets/base",
      "_model_module_version": "1.2.0",
      "_model_name": "LayoutModel",
      "_view_count": null,
      "_view_module": "@jupyter-widgets/base",
      "_view_module_version": "1.2.0",
      "_view_name": "LayoutView",
      "align_content": null,
      "align_items": null,
      "align_self": null,
      "border": null,
      "bottom": null,
      "display": null,
      "flex": null,
      "flex_flow": null,
      "grid_area": null,
      "grid_auto_columns": null,
      "grid_auto_flow": null,
      "grid_auto_rows": null,
      "grid_column": null,
      "grid_gap": null,
      "grid_row": null,
      "grid_template_areas": null,
      "grid_template_columns": null,
      "grid_template_rows": null,
      "height": null,
      "justify_content": null,
      "justify_items": null,
      "left": null,
      "margin": null,
      "max_height": null,
      "max_width": null,
      "min_height": null,
      "min_width": null,
      "object_fit": null,
      "object_position": null,
      "order": null,
      "overflow": null,
      "overflow_x": null,
      "overflow_y": null,
      "padding": null,
      "right": null,
      "top": null,
      "visibility": null,
      "width": null
     }
    }
   }
  }
 },
 "nbformat": 4,
 "nbformat_minor": 4
}
