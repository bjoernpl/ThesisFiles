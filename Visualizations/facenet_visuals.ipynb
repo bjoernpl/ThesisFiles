{
 "cells": [
  {
   "cell_type": "markdown",
   "metadata": {},
   "source": [
    "## Inference testing for Tacotron2 with FaceStyle Module as GST replacement"
   ]
  },
  {
   "cell_type": "code",
   "execution_count": 86,
   "metadata": {},
   "outputs": [],
   "source": [
    "from pathlib import Path\n",
    "import IPython\n",
    "import torch\n",
    "import numpy as np\n",
    "from random import shuffle\n",
    "from umap.umap_ import UMAP\n",
    "import matplotlib.pyplot as plt\n",
    "from facenet_pytorch import InceptionResnetV1\n",
    "from models.inception_resnet_v1 import InceptionResnetV1 as TrainedInception\n",
    "from models.facenet import FaceNet\n",
    "from torchvision import transforms\n",
    "from models.mtcnn import fixed_image_standardization\n",
    "from PIL import Image\n",
    "from tqdm import tqdm\n",
    "import matplotlib.colors as mcolors"
   ]
  },
  {
   "cell_type": "code",
   "execution_count": 60,
   "metadata": {},
   "outputs": [],
   "source": [
    "base_face_model = TrainedInception(pretrained=\"casia-webface\", num_classes=5089).eval().cuda()\n",
    "base_face = TrainedInception(pretrained=\"casia-webface\", num_classes=5089)\n",
    "\n",
    "facenet_finetuned = \"../results/facenet/spring-glitter-9/facestyle-epoch=14-val_loss=0.07.ckpt\"\n",
    "if facenet_finetuned is not None:\n",
    "    face_model = FaceNet.load_from_checkpoint(facenet_finetuned, model=base_face)\n",
    "_ = face_model.eval()\n",
    "_ = face_model.cuda()"
   ]
  },
  {
   "cell_type": "code",
   "execution_count": 112,
   "metadata": {},
   "outputs": [],
   "source": [
    "baseline_facenet = InceptionResnetV1(pretrained=\"casia-webface\")\n",
    "_ = baseline_facenet.eval()\n",
    "_ = baseline_facenet.cuda()"
   ]
  },
  {
   "cell_type": "code",
   "execution_count": 113,
   "metadata": {},
   "outputs": [],
   "source": [
    "total = 100\n",
    "per_spk = 30\n",
    "paths = []\n",
    "wav_paths = []\n",
    "images_path = Path(\"../data/images/val\")\n",
    "spks = list(images_path.glob(\"*\"))\n",
    "spk_count = []\n",
    "for spk in spks:\n",
    "    spk_count.append((spk, len(list(spk.glob(\"*\")))))\n",
    "spk_count = sorted(spk_count, key=lambda x: x[1], reverse=True)[:total*2]\n",
    "spks = [x for x, y in spk_count]\n",
    "shuffle(spks)\n",
    "for speaker in spks[:total]:\n",
    "    new_paths = list(speaker.glob(\"*.jpg\"))[:per_spk]\n",
    "    #wavs = map(lambda x: audio_path / speaker.stem / (x.stem.split(\"_\")[0]+ \"_\" + str(int(x.stem.split(\"_\")[1])-1) + \".wav\"), new_paths)\n",
    "    #wavs = map(lambda x: audio_path / speaker.stem / (x.stem.split(\"_\")[0]+ \".wav\"), new_paths)\n",
    "\n",
    "    paths += new_paths\n",
    "    #wav_paths += wavs\n",
    "speakers = list(map(lambda wav_fpath: wav_fpath.parent.stem, paths))"
   ]
  },
  {
   "cell_type": "code",
   "execution_count": 114,
   "metadata": {},
   "outputs": [],
   "source": [
    "image_transform = transforms.Compose([\n",
    "    np.float32,\n",
    "    transforms.ToTensor(),\n",
    "    fixed_image_standardization\n",
    "])"
   ]
  },
  {
   "cell_type": "code",
   "execution_count": 115,
   "metadata": {
    "scrolled": true,
    "tags": []
   },
   "outputs": [
    {
     "name": "stderr",
     "output_type": "stream",
     "text": [
      "100%|██████████| 2874/2874 [01:23<00:00, 34.27it/s]\n"
     ]
    }
   ],
   "source": [
    "baseline_embs = np.zeros((len(paths), 512), dtype=np.float64)\n",
    "trained_embs = np.zeros((len(paths), 512), dtype=np.float64)\n",
    "with torch.no_grad():\n",
    "    for i, path in enumerate(tqdm(paths)):\n",
    "        img = Image.open(path)\n",
    "        img = image_transform(img).cuda()\n",
    "        baseline_embs[i] = base_face_model.forward(img.unsqueeze(0)).squeeze(0).cpu().numpy() \n",
    "        trained_embs[i] = face_model.forward(img.unsqueeze(0)).squeeze(0).cpu().numpy() \n",
    "\n",
    "        \n"
   ]
  },
  {
   "cell_type": "code",
   "execution_count": 116,
   "metadata": {},
   "outputs": [],
   "source": [
    "cs = list(mcolors.CSS4_COLORS.values())\n",
    "def to_int_rgb(hex_rgb):\n",
    "    r,g,b = hex_rgb[1:3], hex_rgb[3:5], hex_rgb[5:7]\n",
    "    return int(r, 16), int(g, 16), int(b, 16)\n",
    "dark_colors = [x for x in cs if sum(to_int_rgb(x)) < 600]"
   ]
  },
  {
   "cell_type": "code",
   "execution_count": 125,
   "metadata": {},
   "outputs": [],
   "source": [
    "def plot_tsne(voice_embs, face_embs, speakers, **kwargs):\n",
    "    \"\"\"colors = np.array([\n",
    "        [0, 127, 70],\n",
    "        [255, 0, 0],\n",
    "        [255, 217, 38],\n",
    "        [0, 135, 255],\n",
    "        [165, 0, 165],\n",
    "        [255, 167, 255],\n",
    "        [97, 142, 151],\n",
    "        [0, 255, 255],\n",
    "        [255, 96, 38],\n",
    "        [142, 76, 0],\n",
    "        [33, 0, 127],\n",
    "        [0, 0, 0],\n",
    "        [183, 183, 183],\n",
    "        [76, 255, 0],\n",
    "    ], dtype=float) / 255 \"\"\"\n",
    "    colors = dark_colors\n",
    "    fig, (ax1, ax2) = plt.subplots(1, 2, figsize=(10,5))\n",
    "        \n",
    "    # Compute the 2D projections. You could also project to another number of dimensions (e.g. \n",
    "    # for a 3D plot) or use a different different dimensionality reduction like PCA or TSNE.\n",
    "    reducer = UMAP(**kwargs) #TSNE(perplexity=50, learning_rate=400)\n",
    "    all_embs = np.concatenate([voice_embs, face_embs], axis=0)\n",
    "    projs = reducer.fit_transform(all_embs)\n",
    "    projs, projs2 = projs[:len(voice_embs)], projs[len(voice_embs):]\n",
    "    #reducer = reducer.fit(voice_embs)\n",
    "    #projs = reducer.transform(voice_embs)\n",
    "    #projs2 = reducer.fit_transform(face_embs)\n",
    "    ax1.tick_params(left=False,\n",
    "                bottom=False,\n",
    "                labelleft=False,\n",
    "                labelbottom=False)\n",
    "    ax2.tick_params(left=False,\n",
    "                bottom=False,\n",
    "                labelleft=False,\n",
    "                labelbottom=False)\n",
    "    # Draw the projections\n",
    "    speakers = np.array(speakers)\n",
    "    #colors = colors or _my_colors\n",
    "    for i, speaker in enumerate(np.unique(speakers)):\n",
    "        speaker_projs = projs[speakers == speaker]\n",
    "        speaker_projs2 = projs2[speakers == speaker]\n",
    "\n",
    "        marker = \"o\"\n",
    "        label = f\"Speaker {i+1}\"\n",
    "        ax1.scatter(*speaker_projs.T, c=[colors[i]])#, marker=marker, label=label)\n",
    "        ax2.scatter(*speaker_projs2.T, c=[colors[i]])#, marker=marker)\n",
    "\n",
    "\n",
    "    #ax1.set_aspect('tight')\n",
    "    #ax2.set_aspect('tight')\n",
    "    plt.tight_layout()\n",
    "    fig.legend(loc='lower left', fontsize=\"large\")\n",
    "    ax1.set_title(\"Baseline Facenet\", fontsize=\"xx-large\")\n",
    "    ax2.set_title(\"Finetuned Facenet\", fontsize=\"xx-large\")\n",
    "    "
   ]
  },
  {
   "cell_type": "code",
   "execution_count": 126,
   "metadata": {},
   "outputs": [
    {
     "name": "stderr",
     "output_type": "stream",
     "text": [
      "/home/bjorn/anaconda3/envs/facevoice_training/lib/python3.7/site-packages/sklearn/manifold/_spectral_embedding.py:245: UserWarning: Graph is not fully connected, spectral embedding may not work as expected.\n",
      "  warnings.warn(\"Graph is not fully connected, spectral embedding\"\n",
      "No handles with labels found to put in legend.\n"
     ]
    },
    {
     "data": {
      "image/png": "[encoded data removed]",
      "text/plain": [
       "<Figure size 720x360 with 2 Axes>"
      ]
     },
     "metadata": {
      "needs_background": "light"
     },
     "output_type": "display_data"
    }
   ],
   "source": [
    "_ = plot_tsne(baseline_embs, trained_embs, speakers)\n",
    "plt.tight_layout()\n",
    "plt.savefig(\"./plots/baseline_vs_finetuned_facenet3.pdf\")\n",
    "plt.show()"
   ]
  },
  {
   "cell_type": "code",
   "execution_count": 96,
   "metadata": {},
   "outputs": [],
   "source": [
    "#_ = plot_projections(voice_embs, speakers, title=\"Embedding projections of baseline facenet\", n_components=2)"
   ]
  },
  {
   "cell_type": "code",
   "execution_count": 102,
   "metadata": {},
   "outputs": [],
   "source": []
  },
  {
   "cell_type": "code",
   "execution_count": 18,
   "metadata": {},
   "outputs": [],
   "source": [
    "def plot_one(all_embs, speakers, **kwargs):\n",
    "    colors = np.array([\n",
    "        [0, 127, 70],\n",
    "        [255, 0, 0],\n",
    "        [255, 217, 38],\n",
    "        [0, 135, 255],\n",
    "        [165, 0, 165],\n",
    "        [255, 167, 255],\n",
    "        [97, 142, 151],\n",
    "        [0, 255, 255],\n",
    "        [255, 96, 38],\n",
    "        [142, 76, 0],\n",
    "        [33, 0, 127],\n",
    "        [0, 0, 0],\n",
    "        [183, 183, 183],\n",
    "        [76, 255, 0],\n",
    "    ], dtype=float) / 255 \n",
    "    fig = plt.figure(figsize=(9,4))\n",
    "    ax = fig.add_axes([0,0,1,1])# , projection=\"3d\")\n",
    "        \n",
    "    # Compute the 2D projections. You could also project to another number of dimensions (e.g. \n",
    "    # for a 3D plot) or use a different different dimensionality reduction like PCA or TSNE.\n",
    "    reducer = UMAP(**kwargs) #TSNE(perplexity=50, learning_rate=400)\n",
    "    projs = reducer.fit_transform(all_embs)\n",
    "\n",
    "    #projs = reducer.fit_transform(embeds1)\n",
    "    #projs2 = reducer.fit_transform(embeds2)\n",
    "    \n",
    "    # Draw the projections\n",
    "    speakers = np.array(speakers)\n",
    "    #colors = colors or _my_colors\n",
    "    for i, speaker in enumerate(np.unique(speakers)):\n",
    "        speaker_projs = projs[speakers == speaker]\n",
    "\n",
    "        marker = \"o\"\n",
    "        label = speaker[:5]\n",
    "        ax.scatter(*speaker_projs.T, c=[colors[i]], marker=marker, label=label)\n",
    "    \n",
    "\n",
    "    \n",
    "    ax.legend(title=\"Speakers\", ncol=2)\n",
    "    #ax.set_title(title)\n",
    "    ax.set_xticks([])\n",
    "    ax.set_yticks([])"
   ]
  }
 ],
 "metadata": {
  "kernelspec": {
   "display_name": "Python 3.7.9 64-bit ('facevoice_training': conda)",
   "language": "python",
   "name": "python37964bitfacevoicetrainingconda72875980c0cf443baaf3b27baf4847c5"
  },
  "language_info": {
   "codemirror_mode": {
    "name": "ipython",
    "version": 3
   },
   "file_extension": ".py",
   "mimetype": "text/x-python",
   "name": "python",
   "nbconvert_exporter": "python",
   "pygments_lexer": "ipython3",
   "version": "3.7.9"
  }
 },
 "nbformat": 4,
 "nbformat_minor": 4
}
